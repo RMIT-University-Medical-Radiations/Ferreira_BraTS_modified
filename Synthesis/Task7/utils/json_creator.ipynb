{
 "cells": [
  {
   "cell_type": "markdown",
   "metadata": {},
   "source": [
    "## Creating the json file with the file names"
   ]
  },
  {
   "cell_type": "code",
   "execution_count": 2,
   "metadata": {},
   "outputs": [],
   "source": [
    "from os import listdir\n",
    "from os.path import join\n",
    "import json\n",
    "validation_L = []\n",
    "root_data_dir = \"../../DataSet/ASNR-MICCAI-BraTS2023-GLI-Challenge-TrainingData\"\n",
    "for case in listdir(root_data_dir):\n",
    "    entry_case = {\n",
    "        \"seg\": f\"{root_data_dir}/{case}/{case}-seg.nii.gz\",\n",
    "        \"t1c\": f\"{root_data_dir}/{case}/{case}-t1c.nii.gz\",\n",
    "        \"t1n\": f\"{root_data_dir}/{case}/{case}-t1n.nii.gz\",\n",
    "        \"t2f\": f\"{root_data_dir}/{case}/{case}-t2f.nii.gz\",\n",
    "        \"t2w\": f\"{root_data_dir}/{case}/{case}-t2w.nii.gz\"\n",
    "        }\n",
    "    validation_L.append(entry_case)\n",
    "# Open the file for writing in text mode ('w')\n",
    "with open('./BraTS2023-Missing_modal_training_data_split.json', 'w') as json_file:\n",
    "    json.dump({\"training\": validation_L}, json_file, indent=4)"
   ]
  },
  {
   "cell_type": "code",
   "execution_count": null,
   "metadata": {},
   "outputs": [],
   "source": []
  }
 ],
 "metadata": {
  "kernelspec": {
   "display_name": "brats2024",
   "language": "python",
   "name": "python3"
  },
  "language_info": {
   "codemirror_mode": {
    "name": "ipython",
    "version": 3
   },
   "file_extension": ".py",
   "mimetype": "text/x-python",
   "name": "python",
   "nbconvert_exporter": "python",
   "pygments_lexer": "ipython3",
   "version": "3.1.undefined"
  }
 },
 "nbformat": 4,
 "nbformat_minor": 2
}
